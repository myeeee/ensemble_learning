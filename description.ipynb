{
 "cells": [
  {
   "cell_type": "code",
   "execution_count": 1,
   "metadata": {},
   "outputs": [],
   "source": [
    "import pandas as pd"
   ]
  },
  {
   "cell_type": "code",
   "execution_count": 5,
   "metadata": {},
   "outputs": [],
   "source": [
    "data = pd.read_table('dataset/airfoil_self_noise.dat')\n",
    "data.columns = ['Frequency', 'AttackAngle', 'ChordLength', 'StreamVelocity', 'DisplacementThickness', 'PressureLevel']"
   ]
  },
  {
   "cell_type": "code",
   "execution_count": 6,
   "metadata": {},
   "outputs": [
    {
     "name": "stdout",
     "output_type": "stream",
     "text": [
      "   Frequency  AttackAngle  ChordLength  StreamVelocity  DisplacementThickness  \\\n",
      "0       1000          0.0       0.3048            71.3               0.002663   \n",
      "1       1250          0.0       0.3048            71.3               0.002663   \n",
      "2       1600          0.0       0.3048            71.3               0.002663   \n",
      "3       2000          0.0       0.3048            71.3               0.002663   \n",
      "4       2500          0.0       0.3048            71.3               0.002663   \n",
      "\n",
      "   PressureLevel  \n",
      "0        125.201  \n",
      "1        125.951  \n",
      "2        127.591  \n",
      "3        127.461  \n",
      "4        125.571  \n"
     ]
    }
   ],
   "source": [
    "print(data.head())"
   ]
  },
  {
   "cell_type": "code",
   "execution_count": null,
   "metadata": {},
   "outputs": [],
   "source": []
  }
 ],
 "metadata": {
  "kernelspec": {
   "display_name": "Python 3",
   "language": "python",
   "name": "python3"
  },
  "language_info": {
   "codemirror_mode": {
    "name": "ipython",
    "version": 3
   },
   "file_extension": ".py",
   "mimetype": "text/x-python",
   "name": "python",
   "nbconvert_exporter": "python",
   "pygments_lexer": "ipython3",
   "version": "3.7.2"
  }
 },
 "nbformat": 4,
 "nbformat_minor": 2
}
